{
 "cells": [
  {
   "cell_type": "code",
   "execution_count": 1,
   "id": "9b921b53",
   "metadata": {},
   "outputs": [
    {
     "name": "stdout",
     "output_type": "stream",
     "text": [
      "Scraping selesai. Data telah disimpan ke dalam file CSV.\n"
     ]
    }
   ],
   "source": [
    "#!/usr/bin/env python\n",
    "# coding: utf-8\n",
    "\n",
    "# In[1]:\n",
    "\n",
    "\n",
    "# Import digunakan untuk mengimport modul yang dibutuhkan\n",
    "import requests\n",
    "from bs4 import BeautifulSoup as bs\n",
    "import csv\n",
    "\n",
    "# URL yang akan di scrape\n",
    "URL = 'https://proxyway.com/reviews'\n",
    "titles_list = []\n",
    "\n",
    "# Melakukan perulangan untuk mengabil data judul di setiap halaman\n",
    "for page in range(1, 4):\n",
    "    req = requests.get(f\"{URL}/page/{page}\")\n",
    "    soup = bs(req.text, 'html.parser')\n",
    "    titles = soup.find_all('h3')\n",
    "    count = 1\n",
    "    \n",
    "    for title in titles:\n",
    "        d = {}\n",
    "        d['Page Number'] = f'Page {page}'\n",
    "        d['Title Number'] = f'Title {count}'\n",
    "        d['Title Name'] = title.text.strip()\n",
    "        count += 1\n",
    "        titles_list.append(d)\n",
    "\n",
    "# Menyimpan data ke dalam file CSV\n",
    "filename = 'title_review.csv'\n",
    "with open(filename, 'w', newline='') as f:\n",
    "    writer = csv.DictWriter(f, fieldnames=['Page Number', 'Title Number', 'Title Name'])\n",
    "    writer.writeheader()\n",
    "    writer.writerows(titles_list)\n",
    "\n",
    "# Print keterangan jika proses scraping sukses dilakukan \n",
    "print(\"Scraping selesai. Data telah disimpan ke dalam file CSV.\")\n",
    "\n"
   ]
  },
  {
   "cell_type": "code",
   "execution_count": null,
   "id": "bdc62003",
   "metadata": {},
   "outputs": [],
   "source": []
  }
 ],
 "metadata": {
  "kernelspec": {
   "display_name": "Python 3 (ipykernel)",
   "language": "python",
   "name": "python3"
  },
  "language_info": {
   "codemirror_mode": {
    "name": "ipython",
    "version": 3
   },
   "file_extension": ".py",
   "mimetype": "text/x-python",
   "name": "python",
   "nbconvert_exporter": "python",
   "pygments_lexer": "ipython3",
   "version": "3.9.12"
  }
 },
 "nbformat": 4,
 "nbformat_minor": 5
}
